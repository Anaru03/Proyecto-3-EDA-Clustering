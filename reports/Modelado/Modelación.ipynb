{
 "cells": [
  {
   "cell_type": "markdown",
   "metadata": {},
   "source": [
    "## Proyecto 3 - Modelación\n",
    "**Integrantes:**\n",
    "- Ruth de León, 22428 \n",
    "- Héctor Penedo, 22217 \n",
    "- Rodrigo Mansilla, 22611\n",
    "\n"
   ]
  },
  {
   "cell_type": "markdown",
   "metadata": {},
   "source": []
  },
  {
   "cell_type": "markdown",
   "metadata": {},
   "source": [
    "## Variable Respuesta\n"
   ]
  },
  {
   "cell_type": "markdown",
   "metadata": {},
   "source": [
    "Se selecciona como variable de respuesta Caudef, que corresponde al código CIE-10 de la causa de defunción. Esta variable es categórica multinivel –cada código CIE-10 representa una clase distinta– y refleja directamente el desenlace de interés, permitiendo analizar la asociación entre cada causa de muerte y factores socioeconómicos o geográficos.\n",
    "\n",
    "**Partición del conjunto de datos**\n",
    "\n",
    "Con 1 008 732 registros y 66 variables, se implementa un muestreo estratificado sobre Caudef: 70 % de los casos se destina al conjunto de entrenamiento y 30 % al de prueba. La distribución de clases presenta una cola larga: las cinco causas más frecuentes (I219: 7,13 %; J189: 5,41 %; E149: 3,67 %; R98X: 3,29 %; X599: 3,12 %) suman apenas el 22,6 % del total, mientras que el 77,4 % restante se reparte en miles de códigos con muy baja frecuencia, evidenciando un desequilibrio severo de clases.\n",
    "\n",
    "**Limpieza y reducción de dimensionalidad**\n",
    "Para abordar la alta dimensionalidad y los valores erróneos:\n",
    "\n",
    "- Se marcan como NA los valores “999”, “9999” o negativos en variables numéricas (edad, año, etc.).\n",
    "\n",
    "- Se imputan las variables numéricas con la mediana y las categóricas con la moda.\n",
    "\n",
    "- Se eliminan aquellas variables con más del 80 % de valores faltantes o con varianza prácticamente nula.\n",
    "\n",
    "**Codificación y agrupamiento**\n",
    "\n",
    "- Las variables numéricas se normalizan (centrado y escala).\n",
    "\n",
    "- Las variables categóricas se transforman mediante one-hot encoding.\n",
    "\n",
    "- Se agrupan las categorías de baja frecuencia (por ejemplo, municipios con menos del 1 % de observaciones) bajo la etiqueta “Otros” para evitar alta cardinalidad."
   ]
  },
  {
   "cell_type": "markdown",
   "metadata": {},
   "source": [
    "## Preprocesamiento de datos\n"
   ]
  },
  {
   "cell_type": "code",
   "execution_count": 18,
   "metadata": {},
   "outputs": [],
   "source": [
    "# 0. IMPORTS Y RUTAS\n",
    "import os\n",
    "import pandas as pd\n",
    "import numpy as np\n",
    "from sklearn.model_selection import train_test_split, StratifiedShuffleSplit\n",
    "from sklearn.pipeline import Pipeline\n",
    "from sklearn.impute import SimpleImputer\n",
    "from sklearn.preprocessing import StandardScaler, OneHotEncoder\n",
    "from sklearn.compose import ColumnTransformer\n",
    "\n",
    "BASE_DIR = r\"C:\\Users\\rodri\\Documents\\Data-Mining\\Proyecto-3-EDA-Clustering\"\n",
    "DATA_DIR = os.path.join(BASE_DIR, \"data\")\n"
   ]
  },
  {
   "cell_type": "markdown",
   "metadata": {},
   "source": [
    "### Carga y Eliminación de variables con observaciones nulas\n"
   ]
  },
  {
   "cell_type": "code",
   "execution_count": 19,
   "metadata": {},
   "outputs": [
    {
     "name": "stderr",
     "output_type": "stream",
     "text": [
      "C:\\Users\\rodri\\AppData\\Local\\Temp\\ipykernel_27780\\1242429795.py:2: DtypeWarning: Columns (15,29,33,34,35,52,53,54,60,62) have mixed types. Specify dtype option on import or set low_memory=False.\n",
      "  df = pd.read_csv(os.path.join(DATA_DIR, \"master.csv\"))\n"
     ]
    }
   ],
   "source": [
    "# 1. CARGAR DATOS\n",
    "df = pd.read_csv(os.path.join(DATA_DIR, \"master.csv\"))\n",
    "X_raw = df.drop(columns=\"Caudef\")\n",
    "y_raw = df[\"Caudef\"].astype(str)   # homogéneo como string\n",
    "# 2. AGRUPAR CLASES RARAS EN y\n",
    "min_count = 2\n",
    "vc = y_raw.value_counts()\n",
    "raras = vc[vc < min_count].index\n",
    "y = y_raw.replace(raras, \"Otros\")\n"
   ]
  },
  {
   "cell_type": "markdown",
   "metadata": {},
   "source": [
    "### Partición estratificada 70 / 30 sobre `Caudef`"
   ]
  },
  {
   "cell_type": "code",
   "execution_count": 20,
   "metadata": {},
   "outputs": [],
   "source": [
    "# 3. SPLIT ESTRATIFICADO 70/30\n",
    "RANDOM_STATE = 123\n",
    "X_train, X_test, y_train, y_test = train_test_split(\n",
    "    X_raw, y,\n",
    "    test_size=0.30,\n",
    "    stratify=y,\n",
    "    random_state=RANDOM_STATE\n",
    ")\n",
    "# 4. IDENTIFICAR VARIABLES\n",
    "numeric_features = X_train.select_dtypes(include=['number']).columns.tolist()\n",
    "categorical_features = X_train.select_dtypes(include=['object','category']).columns.tolist()\n",
    "\n",
    "# 4.1 Forzar todas las categóricas a str\n",
    "for col in categorical_features:\n",
    "    X_train[col] = X_train[col].astype(str)\n",
    "    X_test [col] = X_test [col].astype(str)\n",
    "# 5. AGRUPAR NIVELES CATEGÓRICOS RAROS (<1% en TRAIN) EN \"Otros\"\n",
    "threshold = 0.01\n",
    "for col in categorical_features:\n",
    "    freqs = X_train[col].value_counts(normalize=True)\n",
    "    rares = freqs[freqs < threshold].index\n",
    "    X_train[col] = X_train[col].where(~X_train[col].isin(rares), other=\"Otros\")\n",
    "    X_test [col] = X_test [col].where(~X_test [col].isin(freqs.index), other=\"Otros\")\n"
   ]
  },
  {
   "cell_type": "markdown",
   "metadata": {},
   "source": [
    "### Definición de pipelines de preprocesamiento"
   ]
  },
  {
   "cell_type": "code",
   "execution_count": 21,
   "metadata": {},
   "outputs": [],
   "source": [
    "# 6. PIPELINES: IMPUTACIÓN, ESCALADO Y DUMMIES\n",
    "num_pipeline = Pipeline([\n",
    "    ('imputer', SimpleImputer(strategy='median')),\n",
    "    ('scaler' , StandardScaler())\n",
    "])\n",
    "cat_pipeline = Pipeline([\n",
    "    ('imputer', SimpleImputer(strategy='most_frequent')),\n",
    "    ('onehot' , OneHotEncoder(handle_unknown='ignore', sparse_output=False))\n",
    "])\n",
    "\n",
    "preprocessor = ColumnTransformer([\n",
    "    ('num', num_pipeline, numeric_features),\n",
    "    ('cat', cat_pipeline, categorical_features)\n",
    "])\n"
   ]
  },
  {
   "cell_type": "markdown",
   "metadata": {},
   "source": [
    "### Ajuste del preprocesador y transformación de train/test"
   ]
  },
  {
   "cell_type": "code",
   "execution_count": 22,
   "metadata": {},
   "outputs": [
    {
     "name": "stdout",
     "output_type": "stream",
     "text": [
      "Train preprocessed: (706112, 241)\n",
      "Test  preprocessed: (302620, 241)\n"
     ]
    }
   ],
   "source": [
    "# 7. AJUSTAR Y TRANSFORMAR\n",
    "X_train_prep = preprocessor.fit_transform(X_train)\n",
    "X_test_prep  = preprocessor.transform(X_test)\n",
    "\n",
    "# Reconstruir DataFrames con nombres de columnas\n",
    "ohe_cols = preprocessor.named_transformers_['cat']['onehot'].get_feature_names_out(categorical_features)\n",
    "all_cols = numeric_features + list(ohe_cols)\n",
    "X_train_prep = pd.DataFrame(X_train_prep, columns=all_cols)\n",
    "X_test_prep  = pd.DataFrame(X_test_prep,  columns=all_cols)\n",
    "\n",
    "print(\"Train preprocessed:\", X_train_prep.shape)\n",
    "print(\"Test  preprocessed:\", X_test_prep.shape)\n"
   ]
  },
  {
   "cell_type": "markdown",
   "metadata": {},
   "source": [
    "### Guardar a CSV para modelado posterior"
   ]
  },
  {
   "cell_type": "code",
   "execution_count": null,
   "metadata": {},
   "outputs": [],
   "source": [
    "# 8. GUARDAR CSVs\n",
    "os.makedirs(os.path.join(DATA_DIR, \"train\"), exist_ok=True)\n",
    "os.makedirs(os.path.join(DATA_DIR, \"test\"),  exist_ok=True)\n",
    "\n",
    "X_train_prep.to_csv(os.path.join(DATA_DIR, \"train\", \"X_train.csv\"), index=False)\n",
    "y_train.to_frame(name=\"Caudef\").to_csv(os.path.join(DATA_DIR, \"train\", \"y_train.csv\"), index=False)\n",
    "X_test_prep .to_csv(os.path.join(DATA_DIR, \"test\" , \"X_test.csv\"),  index=False)\n",
    "y_test .to_frame(name=\"Caudef\") .to_csv(os.path.join(DATA_DIR, \"test\" , \"y_test.csv\"),  index=False)\n"
   ]
  },
  {
   "cell_type": "markdown",
   "metadata": {},
   "source": [
    "## Random Forest\n"
   ]
  },
  {
   "cell_type": "markdown",
   "metadata": {},
   "source": [
    "## Metodología de Modelado con Random Forest (Python / Jupyter)\n",
    "\n",
    "###  Desafíos computacionales y soluciones  \n",
    "Con ~700 000 observaciones y cientos de variables, entrenar un Random Forest presenta un desafio computacional.  \n",
    "\n",
    "**Soluciones propuestas**:  \n",
    "- **Muestreo estratificado**: usar solo un 15–30 % de los datos para el _tuning_ (CV), manteniendo la proporción por `Caudef`.  \n",
    "- **Paralelización**: con `joblib` o el parámetro `n_jobs=-1` de scikit-learn, aprovechar todos los núcleos de CPU.  \n",
    "- **Reducción de árboles** en la fase de tuning (p. ej. 150–300) y simplificación de la grilla de hiperparámetros.  \n",
    "- **Menos pliegues** (5-fold CV) en lugar de 10-fold, equilibrando robustez y tiempo de cómputo.\n",
    "\n",
    "---\n",
    "\n",
    "### Trade-offs sacrificados  \n",
    "\n",
    "| Aspecto                | Pleno rendimiento    | Enfoque actual                  |\n",
    "|------------------------|----------------------|---------------------------------|\n",
    "| # árboles tuning       | 500–1 000            | ~200                            |\n",
    "| Búsqueda hiperparáms   | grillas amplías      | grillas reducidas (2–3 valores) |\n",
    "| Muestra tuning         | 100 % train set      | 15–30 % de train set            |\n",
    "| CV folds               | 10                   | 5                               |\n",
    "\n",
    "_Estos ajustes aceleran el entrenamiento, pero pueden:_  \n",
    "- Pérdida leve de precisión en la selección de hiperparámetros.  \n",
    "- Mayor varianza en la estimación CV.  \n",
    "- Menos estabilidad en la importancia de variables."
   ]
  },
  {
   "cell_type": "code",
   "execution_count": 1,
   "metadata": {},
   "outputs": [
    {
     "ename": "KeyboardInterrupt",
     "evalue": "",
     "output_type": "error",
     "traceback": [
      "\u001b[31m---------------------------------------------------------------------------\u001b[39m",
      "\u001b[31mKeyboardInterrupt\u001b[39m                         Traceback (most recent call last)",
      "\u001b[36mCell\u001b[39m\u001b[36m \u001b[39m\u001b[32mIn[1]\u001b[39m\u001b[32m, line 9\u001b[39m\n\u001b[32m      7\u001b[39m \u001b[38;5;66;03m# 9.2 Cargar datos procesados\u001b[39;00m\n\u001b[32m      8\u001b[39m BASE = \u001b[33mr\u001b[39m\u001b[33m\"\u001b[39m\u001b[33mC:\u001b[39m\u001b[33m\\\u001b[39m\u001b[33mUsers\u001b[39m\u001b[33m\\\u001b[39m\u001b[33mrodri\u001b[39m\u001b[33m\\\u001b[39m\u001b[33mDocuments\u001b[39m\u001b[33m\\\u001b[39m\u001b[33mData-Mining\u001b[39m\u001b[33m\\\u001b[39m\u001b[33mProyecto-3-EDA-Clustering\u001b[39m\u001b[33m\\\u001b[39m\u001b[33mdata\u001b[39m\u001b[33m\"\u001b[39m\n\u001b[32m----> \u001b[39m\u001b[32m9\u001b[39m X_train = \u001b[43mpd\u001b[49m\u001b[43m.\u001b[49m\u001b[43mread_csv\u001b[49m\u001b[43m(\u001b[49m\u001b[33;43mf\u001b[39;49m\u001b[33;43m\"\u001b[39;49m\u001b[38;5;132;43;01m{\u001b[39;49;00m\u001b[43mBASE\u001b[49m\u001b[38;5;132;43;01m}\u001b[39;49;00m\u001b[33;43m/train/X_train.csv\u001b[39;49m\u001b[33;43m\"\u001b[39;49m\u001b[43m)\u001b[49m\n\u001b[32m     10\u001b[39m y_train = pd.read_csv(\u001b[33mf\u001b[39m\u001b[33m\"\u001b[39m\u001b[38;5;132;01m{\u001b[39;00mBASE\u001b[38;5;132;01m}\u001b[39;00m\u001b[33m/train/y_train.csv\u001b[39m\u001b[33m\"\u001b[39m)[\u001b[33m\"\u001b[39m\u001b[33mCaudef\u001b[39m\u001b[33m\"\u001b[39m]\n\u001b[32m     11\u001b[39m X_test  = pd.read_csv(\u001b[33mf\u001b[39m\u001b[33m\"\u001b[39m\u001b[38;5;132;01m{\u001b[39;00mBASE\u001b[38;5;132;01m}\u001b[39;00m\u001b[33m/test/X_test.csv\u001b[39m\u001b[33m\"\u001b[39m)\n",
      "\u001b[36mFile \u001b[39m\u001b[32mc:\\Users\\rodri\\Documents\\Data-Mining\\Proyecto-3-EDA-Clustering\\venv312\\Lib\\site-packages\\pandas\\io\\parsers\\readers.py:1026\u001b[39m, in \u001b[36mread_csv\u001b[39m\u001b[34m(filepath_or_buffer, sep, delimiter, header, names, index_col, usecols, dtype, engine, converters, true_values, false_values, skipinitialspace, skiprows, skipfooter, nrows, na_values, keep_default_na, na_filter, verbose, skip_blank_lines, parse_dates, infer_datetime_format, keep_date_col, date_parser, date_format, dayfirst, cache_dates, iterator, chunksize, compression, thousands, decimal, lineterminator, quotechar, quoting, doublequote, escapechar, comment, encoding, encoding_errors, dialect, on_bad_lines, delim_whitespace, low_memory, memory_map, float_precision, storage_options, dtype_backend)\u001b[39m\n\u001b[32m   1013\u001b[39m kwds_defaults = _refine_defaults_read(\n\u001b[32m   1014\u001b[39m     dialect,\n\u001b[32m   1015\u001b[39m     delimiter,\n\u001b[32m   (...)\u001b[39m\u001b[32m   1022\u001b[39m     dtype_backend=dtype_backend,\n\u001b[32m   1023\u001b[39m )\n\u001b[32m   1024\u001b[39m kwds.update(kwds_defaults)\n\u001b[32m-> \u001b[39m\u001b[32m1026\u001b[39m \u001b[38;5;28;01mreturn\u001b[39;00m \u001b[43m_read\u001b[49m\u001b[43m(\u001b[49m\u001b[43mfilepath_or_buffer\u001b[49m\u001b[43m,\u001b[49m\u001b[43m \u001b[49m\u001b[43mkwds\u001b[49m\u001b[43m)\u001b[49m\n",
      "\u001b[36mFile \u001b[39m\u001b[32mc:\\Users\\rodri\\Documents\\Data-Mining\\Proyecto-3-EDA-Clustering\\venv312\\Lib\\site-packages\\pandas\\io\\parsers\\readers.py:626\u001b[39m, in \u001b[36m_read\u001b[39m\u001b[34m(filepath_or_buffer, kwds)\u001b[39m\n\u001b[32m    623\u001b[39m     \u001b[38;5;28;01mreturn\u001b[39;00m parser\n\u001b[32m    625\u001b[39m \u001b[38;5;28;01mwith\u001b[39;00m parser:\n\u001b[32m--> \u001b[39m\u001b[32m626\u001b[39m     \u001b[38;5;28;01mreturn\u001b[39;00m \u001b[43mparser\u001b[49m\u001b[43m.\u001b[49m\u001b[43mread\u001b[49m\u001b[43m(\u001b[49m\u001b[43mnrows\u001b[49m\u001b[43m)\u001b[49m\n",
      "\u001b[36mFile \u001b[39m\u001b[32mc:\\Users\\rodri\\Documents\\Data-Mining\\Proyecto-3-EDA-Clustering\\venv312\\Lib\\site-packages\\pandas\\io\\parsers\\readers.py:1923\u001b[39m, in \u001b[36mTextFileReader.read\u001b[39m\u001b[34m(self, nrows)\u001b[39m\n\u001b[32m   1916\u001b[39m nrows = validate_integer(\u001b[33m\"\u001b[39m\u001b[33mnrows\u001b[39m\u001b[33m\"\u001b[39m, nrows)\n\u001b[32m   1917\u001b[39m \u001b[38;5;28;01mtry\u001b[39;00m:\n\u001b[32m   1918\u001b[39m     \u001b[38;5;66;03m# error: \"ParserBase\" has no attribute \"read\"\u001b[39;00m\n\u001b[32m   1919\u001b[39m     (\n\u001b[32m   1920\u001b[39m         index,\n\u001b[32m   1921\u001b[39m         columns,\n\u001b[32m   1922\u001b[39m         col_dict,\n\u001b[32m-> \u001b[39m\u001b[32m1923\u001b[39m     ) = \u001b[38;5;28;43mself\u001b[39;49m\u001b[43m.\u001b[49m\u001b[43m_engine\u001b[49m\u001b[43m.\u001b[49m\u001b[43mread\u001b[49m\u001b[43m(\u001b[49m\u001b[43m  \u001b[49m\u001b[38;5;66;43;03m# type: ignore[attr-defined]\u001b[39;49;00m\n\u001b[32m   1924\u001b[39m \u001b[43m        \u001b[49m\u001b[43mnrows\u001b[49m\n\u001b[32m   1925\u001b[39m \u001b[43m    \u001b[49m\u001b[43m)\u001b[49m\n\u001b[32m   1926\u001b[39m \u001b[38;5;28;01mexcept\u001b[39;00m \u001b[38;5;167;01mException\u001b[39;00m:\n\u001b[32m   1927\u001b[39m     \u001b[38;5;28mself\u001b[39m.close()\n",
      "\u001b[36mFile \u001b[39m\u001b[32mc:\\Users\\rodri\\Documents\\Data-Mining\\Proyecto-3-EDA-Clustering\\venv312\\Lib\\site-packages\\pandas\\io\\parsers\\c_parser_wrapper.py:234\u001b[39m, in \u001b[36mCParserWrapper.read\u001b[39m\u001b[34m(self, nrows)\u001b[39m\n\u001b[32m    232\u001b[39m \u001b[38;5;28;01mtry\u001b[39;00m:\n\u001b[32m    233\u001b[39m     \u001b[38;5;28;01mif\u001b[39;00m \u001b[38;5;28mself\u001b[39m.low_memory:\n\u001b[32m--> \u001b[39m\u001b[32m234\u001b[39m         chunks = \u001b[38;5;28;43mself\u001b[39;49m\u001b[43m.\u001b[49m\u001b[43m_reader\u001b[49m\u001b[43m.\u001b[49m\u001b[43mread_low_memory\u001b[49m\u001b[43m(\u001b[49m\u001b[43mnrows\u001b[49m\u001b[43m)\u001b[49m\n\u001b[32m    235\u001b[39m         \u001b[38;5;66;03m# destructive to chunks\u001b[39;00m\n\u001b[32m    236\u001b[39m         data = _concatenate_chunks(chunks)\n",
      "\u001b[36mFile \u001b[39m\u001b[32mparsers.pyx:838\u001b[39m, in \u001b[36mpandas._libs.parsers.TextReader.read_low_memory\u001b[39m\u001b[34m()\u001b[39m\n",
      "\u001b[36mFile \u001b[39m\u001b[32mparsers.pyx:905\u001b[39m, in \u001b[36mpandas._libs.parsers.TextReader._read_rows\u001b[39m\u001b[34m()\u001b[39m\n",
      "\u001b[36mFile \u001b[39m\u001b[32mparsers.pyx:874\u001b[39m, in \u001b[36mpandas._libs.parsers.TextReader._tokenize_rows\u001b[39m\u001b[34m()\u001b[39m\n",
      "\u001b[36mFile \u001b[39m\u001b[32mparsers.pyx:891\u001b[39m, in \u001b[36mpandas._libs.parsers.TextReader._check_tokenize_status\u001b[39m\u001b[34m()\u001b[39m\n",
      "\u001b[36mFile \u001b[39m\u001b[32mparsers.pyx:2053\u001b[39m, in \u001b[36mpandas._libs.parsers.raise_parser_error\u001b[39m\u001b[34m()\u001b[39m\n",
      "\u001b[36mFile \u001b[39m\u001b[32mC:\\Python312\\Lib\\codecs.py:319\u001b[39m, in \u001b[36mBufferedIncrementalDecoder.decode\u001b[39m\u001b[34m(self, input, final)\u001b[39m\n\u001b[32m    314\u001b[39m \u001b[38;5;28;01mdef\u001b[39;00m\u001b[38;5;250m \u001b[39m\u001b[34m_buffer_decode\u001b[39m(\u001b[38;5;28mself\u001b[39m, \u001b[38;5;28minput\u001b[39m, errors, final):\n\u001b[32m    315\u001b[39m     \u001b[38;5;66;03m# Overwrite this method in subclasses: It must decode input\u001b[39;00m\n\u001b[32m    316\u001b[39m     \u001b[38;5;66;03m# and return an (output, length consumed) tuple\u001b[39;00m\n\u001b[32m    317\u001b[39m     \u001b[38;5;28;01mraise\u001b[39;00m \u001b[38;5;167;01mNotImplementedError\u001b[39;00m\n\u001b[32m--> \u001b[39m\u001b[32m319\u001b[39m \u001b[38;5;28;01mdef\u001b[39;00m\u001b[38;5;250m \u001b[39m\u001b[34mdecode\u001b[39m(\u001b[38;5;28mself\u001b[39m, \u001b[38;5;28minput\u001b[39m, final=\u001b[38;5;28;01mFalse\u001b[39;00m):\n\u001b[32m    320\u001b[39m     \u001b[38;5;66;03m# decode input (taking the buffer into account)\u001b[39;00m\n\u001b[32m    321\u001b[39m     data = \u001b[38;5;28mself\u001b[39m.buffer + \u001b[38;5;28minput\u001b[39m\n\u001b[32m    322\u001b[39m     (result, consumed) = \u001b[38;5;28mself\u001b[39m._buffer_decode(data, \u001b[38;5;28mself\u001b[39m.errors, final)\n",
      "\u001b[31mKeyboardInterrupt\u001b[39m: "
     ]
    }
   ],
   "source": [
    "from sklearn.ensemble     import RandomForestClassifier\n",
    "from sklearn.model_selection import StratifiedKFold, cross_val_score, train_test_split, GridSearchCV\n",
    "from sklearn.metrics      import confusion_matrix, classification_report, roc_curve, auc\n",
    "import matplotlib.pyplot   as plt\n",
    "import numpy               as np\n",
    "import pandas              as pd\n",
    "# 9.2 Cargar datos procesados\n",
    "BASE = r\"C:\\Users\\rodri\\Documents\\Data-Mining\\Proyecto-3-EDA-Clustering\\data\"\n",
    "X_train = pd.read_csv(f\"{BASE}/train/X_train.csv\")\n",
    "y_train = pd.read_csv(f\"{BASE}/train/y_train.csv\")[\"Caudef\"]\n",
    "X_test  = pd.read_csv(f\"{BASE}/test/X_test.csv\")\n",
    "y_test  = pd.read_csv(f\"{BASE}/test/y_test.csv\")[\"Caudef\"]\n"
   ]
  },
  {
   "cell_type": "markdown",
   "metadata": {},
   "source": [
    "### Muestreo Estratificado"
   ]
  },
  {
   "cell_type": "code",
   "execution_count": null,
   "metadata": {},
   "outputs": [],
   "source": [
    "# 9.3 Muestreo estratificado para tuning (15 % de train)\n",
    "RND = 123\n",
    "X_tune, _, y_tune, _ = train_test_split(\n",
    "    X_train, y_train,\n",
    "    train_size    = 0.15,\n",
    "    stratify      = y_train,\n",
    "    random_state  = RND\n",
    ")\n"
   ]
  },
  {
   "cell_type": "markdown",
   "metadata": {},
   "source": [
    "### Control de Entrenamiento"
   ]
  },
  {
   "cell_type": "code",
   "execution_count": null,
   "metadata": {},
   "outputs": [],
   "source": [
    "# 9.4 Definir CV y número reducido de árboles\n",
    "cv = StratifiedKFold(n_splits=5, shuffle=True, random_state=RND)\n",
    "base_trees = 200\n"
   ]
  },
  {
   "cell_type": "markdown",
   "metadata": {},
   "source": [
    "### Modelo 1: Base"
   ]
  },
  {
   "cell_type": "code",
   "execution_count": null,
   "metadata": {},
   "outputs": [],
   "source": [
    "p      = X_tune.shape[1]  \n",
    "model1 = RandomForestClassifier(  \n",
    "    n_estimators     = base_trees,  \n",
    "    max_features     = \"sqrt\",  \n",
    "    min_samples_leaf = 1,  \n",
    "    n_jobs           = -1,  \n",
    "    random_state     = RND  \n",
    ")  \n",
    "scores1 = cross_val_score(model1, X_tune, y_tune, cv=cv, scoring=\"accuracy\")  \n",
    "print(\"Modelo 1 CV Accuracy:\", np.round(scores1,3), \"→ mean =\", np.round(scores1.mean(),3))  \n"
   ]
  },
  {
   "cell_type": "markdown",
   "metadata": {},
   "source": [
    "### Evaluación"
   ]
  },
  {
   "cell_type": "code",
   "execution_count": null,
   "metadata": {},
   "outputs": [],
   "source": [
    "model1.fit(X_tune, y_tune)  \n",
    "y_pred1  = model1.predict(X_test)  \n",
    "y_proba1 = model1.predict_proba(X_test)  \n",
    "\n",
    "print(\"Confusion Matrix Modelo 1:\\n\", confusion_matrix(y_test, y_pred1))  \n",
    "print(classification_report(y_test, y_pred1, zero_division=0))  \n",
    "\n",
    "plt.figure(figsize=(8,6))  \n",
    "for i, cls in enumerate(model1.classes_):  \n",
    "    fpr, tpr, _ = roc_curve((y_test==cls).astype(int), y_proba1[:,i])  \n",
    "    plt.plot(fpr, tpr, label=f\"{cls} (AUC={auc(fpr,tpr):.2f})\")  \n",
    "plt.plot([0,1],[0,1],\"--\",color=\"grey\")  \n",
    "plt.title(\"ROC Modelo 1\"); plt.legend(loc=\"lower right\"); plt.show()  \n"
   ]
  },
  {
   "cell_type": "markdown",
   "metadata": {},
   "source": [
    "###  Modelo 2: Tuning `max_features` "
   ]
  },
  {
   "cell_type": "code",
   "execution_count": null,
   "metadata": {},
   "outputs": [],
   "source": [
    "param_grid2 = {\"max_features\": [\"sqrt\",\"log2\"]}  \n",
    "gs2 = GridSearchCV(  \n",
    "    RandomForestClassifier(  \n",
    "        n_estimators     = base_trees,  \n",
    "        min_samples_leaf = 1,  \n",
    "        n_jobs           = -1,  \n",
    "        random_state     = RND  \n",
    "    ),  \n",
    "    param_grid = param_grid2,  \n",
    "    cv         = cv,  \n",
    "    scoring    = \"accuracy\",  \n",
    "    n_jobs     = -1  \n",
    ")  \n",
    "gs2.fit(X_tune, y_tune)  \n",
    "print(\"Modelo 2 best params:\", gs2.best_params_)  \n",
    "print(\"Modelo 2 CV Accuracy:\", np.round(gs2.best_score_,3))  \n"
   ]
  },
  {
   "cell_type": "markdown",
   "metadata": {},
   "source": [
    "#### Evaluación"
   ]
  },
  {
   "cell_type": "code",
   "execution_count": null,
   "metadata": {},
   "outputs": [],
   "source": [
    "best2    = gs2.best_estimator_  \n",
    "y_pred2  = best2.predict(X_test)  \n",
    "y_proba2 = best2.predict_proba(X_test)  \n",
    "\n",
    "print(\"Confusion Matrix Modelo 2:\\n\", confusion_matrix(y_test, y_pred2))  \n",
    "print(classification_report(y_test, y_pred2, zero_division=0))  \n",
    "\n",
    "plt.figure(figsize=(8,6))  \n",
    "for i, cls in enumerate(best2.classes_):  \n",
    "    fpr, tpr, _ = roc_curve((y_test==cls).astype(int), y_proba2[:,i])  \n",
    "    plt.plot(fpr, tpr, label=f\"{cls} (AUC={auc(fpr,tpr):.2f})\")  \n",
    "plt.plot([0,1],[0,1],\"--\",color=\"grey\")  \n",
    "plt.title(\"ROC Modelo 2\"); plt.legend(loc=\"lower right\"); plt.show()  \n"
   ]
  },
  {
   "cell_type": "markdown",
   "metadata": {},
   "source": [
    "### Modelo 3: tuning max_features y min_samples_leaf\n"
   ]
  },
  {
   "cell_type": "code",
   "execution_count": null,
   "metadata": {},
   "outputs": [],
   "source": [
    "param_grid3 = {  \n",
    "    \"max_features\"     : [\"sqrt\",\"log2\"],  \n",
    "    \"min_samples_leaf\" : [1,10]  \n",
    "}  \n",
    "gs3 = GridSearchCV(  \n",
    "    RandomForestClassifier(  \n",
    "        n_estimators = base_trees,  \n",
    "        n_jobs       = -1,  \n",
    "        random_state = RND  \n",
    "    ),  \n",
    "    param_grid = param_grid3,  \n",
    "    cv         = cv,  \n",
    "    scoring    = \"accuracy\",  \n",
    "    n_jobs     = -1  \n",
    ")  \n",
    "gs3.fit(X_tune, y_tune)  \n",
    "print(\"Modelo 3 best params:\", gs3.best_params_)  \n",
    "print(\"Modelo 3 CV Accuracy:\", np.round(gs3.best_score_,3))  \n"
   ]
  },
  {
   "cell_type": "markdown",
   "metadata": {},
   "source": [
    "#### Evaluación"
   ]
  },
  {
   "cell_type": "code",
   "execution_count": null,
   "metadata": {},
   "outputs": [],
   "source": [
    "best3    = gs3.best_estimator_  \n",
    "y_pred3  = best3.predict(X_test)  \n",
    "y_proba3 = best3.predict_proba(X_test)  \n",
    "\n",
    "print(\"Confusion Matrix Modelo 3:\\n\", confusion_matrix(y_test, y_pred3))  \n",
    "print(classification_report(y_test, y_pred3, zero_division=0))  \n",
    "\n",
    "plt.figure(figsize=(8,6))  \n",
    "for i, cls in enumerate(best3.classes_):  \n",
    "    fpr, tpr, _ = roc_curve((y_test==cls).astype(int), y_proba3[:,i])  \n",
    "    plt.plot(fpr, tpr, label=f\"{cls} (AUC={auc(fpr,tpr):.2f})\")  \n",
    "plt.plot([0,1],[0,1],\"--\",color=\"grey\")  \n",
    "plt.title(\"ROC Modelo 3\"); plt.legend(loc=\"lower right\"); plt.show()  "
   ]
  },
  {
   "cell_type": "markdown",
   "metadata": {},
   "source": [
    " ### Comparar distribuciones CV (boxplot)"
   ]
  },
  {
   "cell_type": "code",
   "execution_count": null,
   "metadata": {},
   "outputs": [],
   "source": [
    "# 9.8 Comparar distribuciones CV (boxplot)\n",
    "results = pd.DataFrame({\n",
    "    \"Base\"    : cross_val_score(model1, X_tune, y_tune, cv=cv),\n",
    "    \"Tuning1\" : gs2.cv_results_[\"mean_test_score\"],\n",
    "    \"Tuning2\" : gs3.cv_results_[\"mean_test_score\"]\n",
    "})\n",
    "results.plot.box(grid=True, title=\"CV Accuracy comparado\"); plt.show()\n"
   ]
  },
  {
   "cell_type": "markdown",
   "metadata": {},
   "source": [
    "### Modelo Final"
   ]
  },
  {
   "cell_type": "code",
   "execution_count": null,
   "metadata": {},
   "outputs": [],
   "source": [
    "best_params = gs3.best_params_  \n",
    "final_rf    = RandomForestClassifier(  \n",
    "    n_estimators     = 400,  \n",
    "    max_features     = best_params[\"max_features\"],  \n",
    "    min_samples_leaf = best_params[\"min_samples_leaf\"],  \n",
    "    n_jobs           = -1,  \n",
    "    random_state     = RND  \n",
    ")  \n",
    "final_rf.fit(X_train, y_train)  "
   ]
  },
  {
   "cell_type": "markdown",
   "metadata": {},
   "source": [
    "#### Evaluación en test\n"
   ]
  },
  {
   "cell_type": "code",
   "execution_count": null,
   "metadata": {},
   "outputs": [],
   "source": [
    "y_pred_f  = final_rf.predict(X_test)  \n",
    "y_proba_f = final_rf.predict_proba(X_test)  \n",
    "\n",
    "print(\"Confusion Matrix Modelo Final:\\n\", confusion_matrix(y_test, y_pred_f))  \n",
    "print(classification_report(y_test, y_pred_f, zero_division=0))  \n",
    "\n",
    "plt.figure(figsize=(8,6))  \n",
    "for i, cls in enumerate(final_rf.classes_):  \n",
    "    fpr, tpr, _ = roc_curve((y_test==cls).astype(int), y_proba_f[:,i])  \n",
    "    plt.plot(fpr, tpr, label=f\"{cls} (AUC={auc(fpr,tpr):.2f})\")  \n",
    "plt.plot([0,1],[0,1],\"--\",color=\"grey\")  \n",
    "plt.title(\"ROC Modelo Final\"); plt.legend(loc=\"lower right\"); plt.show()  "
   ]
  },
  {
   "cell_type": "markdown",
   "metadata": {},
   "source": [
    "### Importancia de las variables"
   ]
  },
  {
   "cell_type": "code",
   "execution_count": null,
   "metadata": {},
   "outputs": [],
   "source": [
    "importances = pd.Series(final_rf.feature_importances_, index=X_train.columns)  \n",
    "top20       = importances.nlargest(20)  \n",
    "top20.sort_values().plot.barh(title=\"Top 20 Importancias\"); plt.show()"
   ]
  }
 ],
 "metadata": {
  "kernelspec": {
   "display_name": "Python 3.12 (venv)",
   "language": "python",
   "name": "venv312"
  },
  "language_info": {
   "codemirror_mode": {
    "name": "ipython",
    "version": 3
   },
   "file_extension": ".py",
   "mimetype": "text/x-python",
   "name": "python",
   "nbconvert_exporter": "python",
   "pygments_lexer": "ipython3",
   "version": "3.12.2"
  }
 },
 "nbformat": 4,
 "nbformat_minor": 2
}
