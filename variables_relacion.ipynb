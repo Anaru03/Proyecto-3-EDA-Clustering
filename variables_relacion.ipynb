{
 "cells": [
  {
   "cell_type": "markdown",
   "metadata": {},
   "source": [
    "# Relaciones entre las variables."
   ]
  },
  {
   "cell_type": "code",
   "execution_count": 4,
   "metadata": {},
   "outputs": [
    {
     "name": "stdout",
     "output_type": "stream",
     "text": [
      "Top causas de muerte en hombres:\n",
      " caudef\n",
      "J189    7825.0\n",
      "I219    7235.0\n",
      "X599    6734.0\n",
      "X959    4931.0\n",
      "A09X    4859.0\n",
      "Name: 1, dtype: float64\n",
      "\n",
      "Top causas de muerte en mujeres:\n",
      " caudef\n",
      "J189    6750.0\n",
      "I219    6197.0\n",
      "A09X    4394.0\n",
      "E149    4174.0\n",
      "R98X    3208.0\n",
      "Name: 2, dtype: float64\n",
      "\n",
      "Estadísticas de edad por asistencia médica:\n",
      "             mean   25%   50%    75%\n",
      "asist                              \n",
      "1      61.873227  28.0  58.0  77.00\n",
      "2      59.265185  18.5  48.0  74.00\n",
      "3      40.233410   4.0  21.0  60.00\n",
      "4      62.538145  23.0  61.0  79.00\n",
      "5      68.561234  29.0  59.0  78.00\n",
      "9      46.666667  38.0  50.5  60.75\n",
      "\n",
      "Distribución de asistencia médica por sexo:\n",
      " asist          1         2         3         4          5         9\n",
      "sexo                                                               \n",
      "1      42.343394  0.298758  0.137488  2.323922  54.890493  0.005945\n",
      "2      45.280653  0.261362  0.241257  2.816578  51.396322  0.003829\n",
      "\n",
      "Top causas de muerte sin asistencia médica:\n",
      " caudef\n",
      "J189    10845.0\n",
      "I219     7881.0\n",
      "A09X     7307.0\n",
      "R98X     6981.0\n",
      "X954     4167.0\n",
      "Name: 5, dtype: float64\n",
      "\n",
      "Top causas de muerte con asistencia médica:\n",
      " caudef\n",
      "I219    5133.0\n",
      "X599    4552.0\n",
      "E149    3721.0\n",
      "J189    3058.0\n",
      "X959    2611.0\n",
      "Name: 1, dtype: float64\n"
     ]
    }
   ],
   "source": [
    "import pandas as pd\n",
    "\n",
    "# Cargar el dataset\n",
    "df = pd.read_csv(\"master_final.csv\") \n",
    "\n",
    "# Relación entre Sexo y Causa de Defunción (Top 5 causas por sexo)\n",
    "causa_sexo = df.groupby(['sexo', 'caudef']).size().unstack().fillna(0)\n",
    "top_causas_hombres = causa_sexo.loc[1].sort_values(ascending=False).head(5)\n",
    "top_causas_mujeres = causa_sexo.loc[2].sort_values(ascending=False).head(5)\n",
    "\n",
    "# Relación entre Edad y Asistencia Médica\n",
    "edad_asistencia = df.groupby(['asist'])['edadif'].describe()[['mean', '25%', '50%', '75%']]\n",
    "\n",
    "# Relación entre Sexo y Asistencia Médica\n",
    "sexo_asistencia = df.groupby(['sexo', 'asist']).size().unstack().fillna(0)\n",
    "sexo_asistencia_pct = sexo_asistencia.div(sexo_asistencia.sum(axis=1), axis=0) * 100\n",
    "\n",
    "# Relación entre Causa de Defunción y Asistencia Médica (Top 5 causas sin asistencia médica)\n",
    "causa_asistencia = df.groupby(['asist', 'caudef']).size().unstack().fillna(0)\n",
    "top_causas_sin_asistencia = causa_asistencia.loc[5].sort_values(ascending=False).head(5)\n",
    "top_causas_con_asistencia = causa_asistencia.loc[1].sort_values(ascending=False).head(5)\n",
    "\n",
    "print(\"Top causas de muerte en hombres:\\n\", top_causas_hombres)\n",
    "print(\"\\nTop causas de muerte en mujeres:\\n\", top_causas_mujeres)\n",
    "print(\"\\nEstadísticas de edad por asistencia médica:\\n\", edad_asistencia)\n",
    "print(\"\\nDistribución de asistencia médica por sexo:\\n\", sexo_asistencia_pct)\n",
    "print(\"\\nTop causas de muerte sin asistencia médica:\\n\", top_causas_sin_asistencia)\n",
    "print(\"\\nTop causas de muerte con asistencia médica:\\n\", top_causas_con_asistencia)\n"
   ]
  }
 ],
 "metadata": {
  "kernelspec": {
   "display_name": "Python 3",
   "language": "python",
   "name": "python3"
  },
  "language_info": {
   "codemirror_mode": {
    "name": "ipython",
    "version": 3
   },
   "file_extension": ".py",
   "mimetype": "text/x-python",
   "name": "python",
   "nbconvert_exporter": "python",
   "pygments_lexer": "ipython3",
   "version": "3.11.2"
  }
 },
 "nbformat": 4,
 "nbformat_minor": 2
}
